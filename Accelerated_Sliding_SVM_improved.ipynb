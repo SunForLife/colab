{
  "nbformat": 4,
  "nbformat_minor": 0,
  "metadata": {
    "@webio": {
      "lastCommId": null,
      "lastKernelId": null
    },
    "kernelspec": {
      "display_name": "Python 3",
      "language": "python",
      "name": "python3"
    },
    "language_info": {
      "codemirror_mode": {
        "name": "ipython",
        "version": 3
      },
      "file_extension": ".py",
      "mimetype": "text/x-python",
      "name": "python",
      "nbconvert_exporter": "python",
      "pygments_lexer": "ipython3",
      "version": "3.7.3"
    },
    "colab": {
      "name": "Accelerated Sliding_SVM_improved.ipynb",
      "provenance": [],
      "collapsed_sections": [],
      "include_colab_link": true
    }
  },
  "cells": [
    {
      "cell_type": "markdown",
      "metadata": {
        "id": "view-in-github",
        "colab_type": "text"
      },
      "source": [
        "<a href=\"https://colab.research.google.com/github/SunForLife/colab/blob/master/Accelerated_Sliding_SVM_improved.ipynb\" target=\"_parent\"><img src=\"https://colab.research.google.com/assets/colab-badge.svg\" alt=\"Open In Colab\"/></a>"
      ]
    },
    {
      "cell_type": "code",
      "metadata": {
        "id": "Yy40th4eJlFl",
        "colab_type": "code",
        "colab": {}
      },
      "source": [
        "import numpy as np\n",
        "import math\n",
        "from scipy.optimize import minimize  \n",
        "import time"
      ],
      "execution_count": 0,
      "outputs": []
    },
    {
      "cell_type": "markdown",
      "metadata": {
        "id": "VKMgzrVDJlFt",
        "colab_type": "text"
      },
      "source": [
        "# Oracle Complexity Separation"
      ]
    },
    {
      "cell_type": "markdown",
      "metadata": {
        "id": "65QOcBpQJlFu",
        "colab_type": "text"
      },
      "source": [
        "##### Katyusha\n",
        "https://arxiv.org/pdf/1603.05953.pdf"
      ]
    },
    {
      "cell_type": "code",
      "metadata": {
        "id": "EylNken2JlFv",
        "colab_type": "code",
        "colab": {}
      },
      "source": [
        "def orac_psi_kat(x, ksik, ksi0, p_grad_h, L, Lh):\n",
        "    nor1 = np.linalg.norm(x - ksik, 2)\n",
        "    nor_sq1 = nor1*nor1\n",
        "\n",
        "    nor2 = np.linalg.norm(x - ksi0, 2)\n",
        "    nor_sq2 = nor2*nor2\n",
        "    \n",
        "    return float(np.dot(p_grad_h(ksik).T, x - ksik)) + Lh / 2 * nor_sq1 + L / 2 * nor_sq2"
      ],
      "execution_count": 0,
      "outputs": []
    },
    {
      "cell_type": "code",
      "metadata": {
        "id": "85pZYccYJlF0",
        "colab_type": "code",
        "colab": {}
      },
      "source": [
        "def orac_z(x, alpha, p_orac_psi_kat, zk, gr_tilde, ksik, ksi0, p_grad_h, L, Lh):\n",
        "    \n",
        "    nor1 = np.linalg.norm(x - zk, 2)\n",
        "    nor_sq1 = nor1*nor1\n",
        "\n",
        "    return 1 / 2 / alpha * nor_sq1  + float(np.dot(gr_tilde.T, x)) + p_orac_psi_kat(x, ksik, ksi0, p_grad_h, L, Lh)"
      ],
      "execution_count": 0,
      "outputs": []
    },
    {
      "cell_type": "code",
      "metadata": {
        "id": "rMQUHL1lJ-JH",
        "colab_type": "code",
        "colab": {}
      },
      "source": [
        "def argmin_sol(x, alpha, p_orac_psi_kat, zk, gr_tilde, ksik, ksi0, p_grad_h, L, Lh):\n",
        "   return (1 / alpha * zk - gr_tilde + Lh * ksik + L * ksi0 - p_grad_h(ksik)) / (1 / alpha + Lh + L)"
      ],
      "execution_count": 0,
      "outputs": []
    },
    {
      "cell_type": "code",
      "metadata": {
        "id": "Shg1PxVAJlF5",
        "colab_type": "code",
        "colab": {}
      },
      "source": [
        "def Katyusha(x0, S_n, L, p_grad_h, p_grad_g, p_stoch_grad, p_orac_z, eps, p_h, Lh, ksik, ksi0, p_orac_psi_kat):\n",
        "    n_dim = x0.shape[0]\n",
        "    n_sam = n_dim - 1\n",
        "    m = 1 # 2 * n_sam\n",
        "    tau2 = 0.5\n",
        "    n = n_sam\n",
        " \n",
        "    y = np.copy(x0)\n",
        "    z = np.copy(x0)\n",
        "    x_tilde = np.copy(x0)\n",
        "    \n",
        "    num_grad_g_stoch_calls = 0\n",
        "    \n",
        "    for i in range(0, S_n):\n",
        "        grad_mu = p_grad_g(x_tilde)\n",
        "        num_grad_g_stoch_calls = num_grad_g_stoch_calls + n_sam\n",
        "        tau1 = 2 / (i + 4)\n",
        "        \n",
        "        alpha = 1 / 3 / tau1 / L\n",
        "        \n",
        "        sum_y = 0\n",
        "        \n",
        "        for j in range(0, m):\n",
        "            x = tau1 * z + tau2 * x_tilde + (1 - tau1 - tau2) * y\n",
        "            a = np.random.randint(0, n_sam) \n",
        "            grad_x = p_stoch_grad(x, a)\n",
        "            grad_x_tilde = p_stoch_grad(x_tilde, a)\n",
        "            num_grad_g_stoch_calls = num_grad_g_stoch_calls + 2\n",
        "            \n",
        "            grad_t = grad_mu + grad_x - grad_x_tilde\n",
        "            z_new = np.copy(z)\n",
        "            \n",
        "            \n",
        "            # allargs = (alpha, p_orac_psi_kat, z, grad_t, ksik, ksi0, p_grad_h, L, Lh)\n",
        "            # minim_res = minimize(p_orac_z, args = allargs, x0 = np.ravel(z), tol = eps, options={'maxiter': 15, 'disp': False})\n",
        "\n",
        "            minim_res2 = argmin_sol(z_new, alpha, p_orac_psi_kat, z, grad_t, ksik, ksi0, p_grad_h, L, Lh)\n",
        "            \n",
        "            # print(\"Norm\", np.linalg.norm(minim_res.x - minim_res2))\n",
        "\n",
        "            #print('j inside Kat', j)\n",
        "            z_new = minim_res2\n",
        "            y = x + tau1 * (z_new - z)\n",
        "            z = z_new\n",
        "            \n",
        "            sum_y = sum_y + y\n",
        "        x_tilde = 1 / m * sum_y    \n",
        "    return x_tilde, num_grad_g_stoch_calls"
      ],
      "execution_count": 0,
      "outputs": []
    },
    {
      "cell_type": "markdown",
      "metadata": {
        "id": "0ZLK1EO-JlF9",
        "colab_type": "text"
      },
      "source": [
        "##### Gradient Method for Composite Optimization\n",
        " \n",
        "\n",
        "$\\phi_{i}(y) := \\langle \\nabla h(y^{k}), \\, y - y^{k} \\rangle + g(y) + \\tfrac{L_h}{2} \\|y - y^{k}\\|_2^2 + \\tfrac{L}{2} \\|y - y^{0}\\|_2^2$"
      ]
    },
    {
      "cell_type": "code",
      "metadata": {
        "id": "rjNaYv58JlF-",
        "colab_type": "code",
        "colab": {}
      },
      "source": [
        "# Psi function\n",
        "# Input parameters:\n",
        "# p_grad_h --- pointer on \\nabla h(x) function\n",
        "# p_g --- pointer on \\tilde g(x) function\n",
        "# yk --- y^{k}\n",
        "# L_h  --- Lipchitz for h(x)\n",
        "\n",
        "def orac_psi(x, p_grad_h, p_g, Lh, yk, L, y0):\n",
        "    \n",
        "    nor1 = np.linalg.norm(x - yk, 2)\n",
        "    nor_sq1 = nor1*nor1\n",
        "\n",
        "    nor2 = np.linalg.norm(x - y0, 2)\n",
        "    nor_sq2 = nor2*nor2\n",
        "    \n",
        "    return float(np.dot(p_grad_h(yk).T, x - yk)) + p_g(x) + Lh / 2 * nor_sq1 + L / 2 * nor_sq2\n",
        "\n",
        "\n",
        "# Gradient Method for Composite Optimization\n",
        "# Input parameters:\n",
        "# p_orac_psi --- oracle for Minimization Alg\n",
        "# p_grad_h --- pointer on \\nabla h(x) function\n",
        "# p_g --- pointer on \\tilde g(x) function\n",
        "# y0 --- y^0 (first initial point for minimize)\n",
        "# L_h  --- Lipchitz for h(x)\n",
        "# N --- number of iterations\n",
        "# xk1 --- $x^{k+1}$\n",
        "\n",
        "def GradComposite(p_orac_psi, p_grad_h, p_g, Lh, y0, N, L, xk1, p_grad_g, eps, p_stoch_grad, p_h, p_orac_psi_kat):\n",
        "    \n",
        "    yi = np.copy(xk1)\n",
        "    \n",
        "    # nor1_krit = np.linalg.norm(p_grad_g(yi) + p_grad_h(yi), 2)\n",
        "    # nor2_krit = 0\n",
        "    \n",
        "    i = 0\n",
        "    \n",
        "    sum_calls = 0 \n",
        "\n",
        "    # if nor1_krit <= L / 2 * nor2_krit:\n",
        "     # return yi, sum_calls\n",
        "    \n",
        "    # while True: \n",
        "    while True:\n",
        "        \n",
        "        i = i + 1\n",
        "        \n",
        "        allargs = (p_grad_h, p_g, Lh, yi, L, y0)\n",
        "        \n",
        "        #print('minimize start', yi.shape, y0.shape)\n",
        "        yi, calls = Katyusha(yi, 1, L, p_grad_h, p_grad_g, p_stoch_grad, orac_z, eps, p_h, Lh, yi, y0, p_orac_psi_kat)\n",
        "        sum_calls = sum_calls + calls\n",
        "        \n",
        "        # nor1_krit = np.linalg.norm(p_grad_g(yi) + p_grad_h(yi) + L*(yi - y0), 2)\n",
        "        # nor2_krit = np.linalg.norm(yi - y0, 2)\n",
        "        #print('Comp', i, nor1_krit)  \n",
        "       \n",
        "        # if nor1_krit <= L / 2 * nor2_krit:\n",
        "          #  print(\"BREAK\")\n",
        "           # break\n",
        "        \n",
        "        if i > 0:\n",
        "          break\n",
        "    \n",
        "    return yi, sum_calls"
      ],
      "execution_count": 0,
      "outputs": []
    },
    {
      "cell_type": "markdown",
      "metadata": {
        "id": "mWyex49bJlGC",
        "colab_type": "text"
      },
      "source": [
        "#### Monteiro–Svaiter Accelerated Proximal method\n",
        "Parameters:  \n",
        "$L > 0$    \n",
        "$x0$ --- initial point  \n",
        "$N$ --- number of iterations  \n",
        "$type\\_z\\_step$ --- 1 -- stardard version for calculating $z$, 2 -- experimental version for calculating $z$ (without gradient of $f(x)$)   "
      ]
    },
    {
      "cell_type": "code",
      "metadata": {
        "id": "99tJLIR6JlGD",
        "colab_type": "code",
        "colab": {}
      },
      "source": [
        "def ms_acc_prox_method(L, Lh, x0, N, p_grad_h, p_g, p_grad_g, p_f, type_z_step, eps, p_stoch_grad, p_h, verbose = 0, time_scale = False):\n",
        "\n",
        "    # Initial points\n",
        "    y0 = np.copy(x0)\n",
        "    z0 = np.copy(x0)\n",
        "\n",
        "    it = 0\n",
        "\n",
        "    x = x0\n",
        "    y = y0\n",
        "    z = z0\n",
        "\n",
        "    plt1 = []\n",
        "    \n",
        "    Ak = 0\n",
        "    \n",
        "    times = []\n",
        "    \n",
        "    time_start = time.time()\n",
        "    \n",
        "    calls = []\n",
        "    \n",
        "    while  it < N: \n",
        "        it = it + 1\n",
        "        \n",
        "        ak = (1/L + math.sqrt(1/L/L + 4 * Ak / L)) / 2\n",
        "        Ak1 = Ak + ak\n",
        "        \n",
        "        x = Ak / Ak1 * y + ak / Ak1 * z\n",
        "        \n",
        "        #print('mm', x.shape, y.shape, z.shape)\n",
        "        y, co = GradComposite(orac_psi, p_grad_h, p_g, Lh, x, N, L, x, p_grad_g, eps, p_stoch_grad, p_h, orac_psi_kat)\n",
        "                \n",
        "        if type_z_step == 1:\n",
        "            z = z - ak * (p_grad_h(y) + p_grad_g(y))\n",
        "            print('Here')\n",
        "        elif type_z_step == 2:    \n",
        "            z = z - ak * L * (x - y)\n",
        "        \n",
        "        if verbose == 1:\n",
        "            print(\"x y z ak Ak Ak+1\", x.shape, y.shape, z.shape, ak, Ak, Ak1)\n",
        "        \n",
        "        Ak = Ak1\n",
        "     \n",
        "\n",
        "        time_end = time.time() - time_start\n",
        "        if time_scale:\n",
        "            times.append(time_end)\n",
        "            \n",
        "        if verbose == 1:\n",
        "            print('Main loop: iter f(y)')\n",
        "        \n",
        "        fy = p_f(y)\n",
        "        plt1.append(fy)\n",
        "        \n",
        "        calls.append(co)\n",
        "        \n",
        "        if verbose == 1:\n",
        "            print(it, fy)\n",
        "        \n",
        "    return N, y, plt1, times, calls"
      ],
      "execution_count": 0,
      "outputs": []
    },
    {
      "cell_type": "markdown",
      "metadata": {
        "id": "NTYVbsj-JlGL",
        "colab_type": "text"
      },
      "source": [
        "##### Restarts for MS"
      ]
    },
    {
      "cell_type": "code",
      "metadata": {
        "id": "tWmJltssJlGM",
        "colab_type": "code",
        "colab": {}
      },
      "source": [
        "def ms_restarts(mu, L, Lh, eta0, N, p_grad_h, p_g, p_grad_g, p_f, type_z_step, verbose = 0):\n",
        "    \n",
        "    N1, y1, plt1 = ms_acc_prox_method(L, Lh, x0, N, grad_h1, g1, grad_g1, f1, 1, verbose = 1)\n",
        "    "
      ],
      "execution_count": 0,
      "outputs": []
    },
    {
      "cell_type": "code",
      "metadata": {
        "id": "SHpvZtAnKe_c",
        "colab_type": "code",
        "outputId": "bd6341d1-dd58-470a-bf0c-f8d5f033c2f4",
        "colab": {
          "resources": {
            "http://localhost:8080/nbextensions/google.colab/files.js": {
              "data": "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",
              "ok": true,
              "headers": [
                [
                  "content-type",
                  "application/javascript"
                ]
              ],
              "status": 200,
              "status_text": ""
            }
          },
          "base_uri": "https://localhost:8080/",
          "height": 40
        }
      },
      "source": [
        "import pandas as pd\n",
        "from google.colab import files\n",
        "import io\n",
        "\n",
        "uploaded2 = files.upload()\n",
        "\n",
        "# Load data from a csv file\n",
        "# bcdf = pd.read_csv(io.BytesIO(uploaded2['breast-cancer-wisconsin.data']), header = None)"
      ],
      "execution_count": 0,
      "outputs": [
        {
          "output_type": "display_data",
          "data": {
            "text/html": [
              "\n",
              "     <input type=\"file\" id=\"files-19d78b0a-658e-40d3-a9dd-b67fd493320b\" name=\"files[]\" multiple disabled />\n",
              "     <output id=\"result-19d78b0a-658e-40d3-a9dd-b67fd493320b\">\n",
              "      Upload widget is only available when the cell has been executed in the\n",
              "      current browser session. Please rerun this cell to enable.\n",
              "      </output>\n",
              "      <script src=\"/nbextensions/google.colab/files.js\"></script> "
            ],
            "text/plain": [
              "<IPython.core.display.HTML object>"
            ]
          },
          "metadata": {
            "tags": []
          }
        }
      ]
    },
    {
      "cell_type": "markdown",
      "metadata": {
        "id": "ictyTbjxJlGR",
        "colab_type": "text"
      },
      "source": [
        "#### Case 1. Kernel SVM"
      ]
    },
    {
      "cell_type": "code",
      "metadata": {
        "id": "cFuwu0HQJlGS",
        "colab_type": "code",
        "outputId": "53973eac-52a3-41be-8e28-0fe9c164b0cd",
        "colab": {
          "base_uri": "https://localhost:8080/",
          "height": 340
        }
      },
      "source": [
        "import pandas as pd\n",
        "import sklearn\n",
        "from sklearn.datasets import load_breast_cancer\n",
        "\n",
        "# Load data from a csv file\n",
        "bcdf = pd.read_csv('breast-cancer-wisconsin.data', header = None)\n",
        "\n",
        "# Drop unecessary columns\n",
        "bcdf.drop([0], axis = 1, inplace = True)\n",
        "\n",
        "print(bcdf.size)\n",
        "bcdf.replace('?', np.nan, inplace = True)\n",
        "bcdf.dropna(inplace = True)\n",
        "print(bcdf.size)\n",
        "\n",
        "bcdf[10].replace(2, 1, inplace = True)\n",
        "bcdf[10].replace(4, -1, inplace = True)\n",
        "\n",
        "bcdf = bcdf.apply(pd.to_numeric, errors = 'ignore')\n",
        "bcdf.info()"
      ],
      "execution_count": 0,
      "outputs": [
        {
          "output_type": "stream",
          "text": [
            "6990\n",
            "6830\n",
            "<class 'pandas.core.frame.DataFrame'>\n",
            "Int64Index: 683 entries, 0 to 698\n",
            "Data columns (total 10 columns):\n",
            " #   Column  Non-Null Count  Dtype\n",
            "---  ------  --------------  -----\n",
            " 0   1       683 non-null    int64\n",
            " 1   2       683 non-null    int64\n",
            " 2   3       683 non-null    int64\n",
            " 3   4       683 non-null    int64\n",
            " 4   5       683 non-null    int64\n",
            " 5   6       683 non-null    int64\n",
            " 6   7       683 non-null    int64\n",
            " 7   8       683 non-null    int64\n",
            " 8   9       683 non-null    int64\n",
            " 9   10      683 non-null    int64\n",
            "dtypes: int64(10)\n",
            "memory usage: 58.7 KB\n"
          ],
          "name": "stdout"
        }
      ]
    },
    {
      "cell_type": "code",
      "metadata": {
        "id": "IYcQipzMJlGX",
        "colab_type": "code",
        "outputId": "8842dc94-a108-49a9-df41-293491b845b3",
        "colab": {
          "base_uri": "https://localhost:8080/",
          "height": 142
        }
      },
      "source": [
        "bcdf.groupby(10).mean()"
      ],
      "execution_count": 0,
      "outputs": [
        {
          "output_type": "execute_result",
          "data": {
            "text/html": [
              "<div>\n",
              "<style scoped>\n",
              "    .dataframe tbody tr th:only-of-type {\n",
              "        vertical-align: middle;\n",
              "    }\n",
              "\n",
              "    .dataframe tbody tr th {\n",
              "        vertical-align: top;\n",
              "    }\n",
              "\n",
              "    .dataframe thead th {\n",
              "        text-align: right;\n",
              "    }\n",
              "</style>\n",
              "<table border=\"1\" class=\"dataframe\">\n",
              "  <thead>\n",
              "    <tr style=\"text-align: right;\">\n",
              "      <th></th>\n",
              "      <th>1</th>\n",
              "      <th>2</th>\n",
              "      <th>3</th>\n",
              "      <th>4</th>\n",
              "      <th>5</th>\n",
              "      <th>6</th>\n",
              "      <th>7</th>\n",
              "      <th>8</th>\n",
              "      <th>9</th>\n",
              "    </tr>\n",
              "    <tr>\n",
              "      <th>10</th>\n",
              "      <th></th>\n",
              "      <th></th>\n",
              "      <th></th>\n",
              "      <th></th>\n",
              "      <th></th>\n",
              "      <th></th>\n",
              "      <th></th>\n",
              "      <th></th>\n",
              "      <th></th>\n",
              "    </tr>\n",
              "  </thead>\n",
              "  <tbody>\n",
              "    <tr>\n",
              "      <th>-1</th>\n",
              "      <td>7.188285</td>\n",
              "      <td>6.577406</td>\n",
              "      <td>6.560669</td>\n",
              "      <td>5.585774</td>\n",
              "      <td>5.326360</td>\n",
              "      <td>7.627615</td>\n",
              "      <td>5.974895</td>\n",
              "      <td>5.857741</td>\n",
              "      <td>2.602510</td>\n",
              "    </tr>\n",
              "    <tr>\n",
              "      <th>1</th>\n",
              "      <td>2.963964</td>\n",
              "      <td>1.306306</td>\n",
              "      <td>1.414414</td>\n",
              "      <td>1.346847</td>\n",
              "      <td>2.108108</td>\n",
              "      <td>1.346847</td>\n",
              "      <td>2.083333</td>\n",
              "      <td>1.261261</td>\n",
              "      <td>1.065315</td>\n",
              "    </tr>\n",
              "  </tbody>\n",
              "</table>\n",
              "</div>"
            ],
            "text/plain": [
              "           1         2         3  ...         7         8         9\n",
              "10                                ...                              \n",
              "-1  7.188285  6.577406  6.560669  ...  5.974895  5.857741  2.602510\n",
              " 1  2.963964  1.306306  1.414414  ...  2.083333  1.261261  1.065315\n",
              "\n",
              "[2 rows x 9 columns]"
            ]
          },
          "metadata": {
            "tags": []
          },
          "execution_count": 138
        }
      ]
    },
    {
      "cell_type": "code",
      "metadata": {
        "id": "0CAkFn_GMvXU",
        "colab_type": "code",
        "colab": {}
      },
      "source": [
        "bcdf = load_breast_cancer()\n",
        "bcdf.target = np.where(bcdf.target==0, -1, bcdf.target)\n",
        "\n",
        "bdata = pd.DataFrame(data=bcdf.data)\n",
        "btarget = pd.DataFrame(data=bcdf.target)"
      ],
      "execution_count": 0,
      "outputs": []
    },
    {
      "cell_type": "code",
      "metadata": {
        "id": "3W8BhVYhJlGb",
        "colab_type": "code",
        "outputId": "a9e38c80-e664-4cb4-e389-ce090502ff76",
        "colab": {
          "base_uri": "https://localhost:8080/",
          "height": 51
        }
      },
      "source": [
        "from sklearn.preprocessing import Normalizer\n",
        "from sklearn.model_selection import train_test_split, KFold, cross_val_score \n",
        "from sklearn.model_selection import GridSearchCV\n",
        "from sklearn.svm import SVC\n",
        "\n",
        "# Split data into testing and training set. Use 67% for training\n",
        "# X_train, X_test, y_train, y_test = train_test_split(bcdf.iloc[:,:-1], bcdf[10], train_size = .67)\n",
        "X_train, X_test, y_train, y_test = train_test_split(bdata, btarget[0], train_size = .67)\n",
        "print(type(X_train))\n",
        "\n",
        "# Instantiate \n",
        "norm = Normalizer()\n",
        "\n",
        "# Fit\n",
        "norm.fit(X_train)\n",
        "\n",
        "# Transform both training and testing sets\n",
        "X_train_norm = norm.transform(X_train)\n",
        "X_test_norm = norm.transform(X_test)\n",
        "\n",
        "SVM_params = {'C':[0.001, 0.1, 10, 100], 'kernel':['rbf' ,'linear', 'poly', 'sigmoid']}\n",
        "\n",
        "kfold = KFold(n_splits = 5, shuffle = True)#, random_state = 42)\n",
        "\n",
        "model_grid = GridSearchCV(SVC(), SVM_params)\n",
        "\n",
        "cv_results = cross_val_score(model_grid, X_train_norm, y_train, cv = kfold, scoring = 'accuracy')\n",
        "\n",
        "msg = \"Cross Validation Accuracy %s: Accuracy: %f SD: %f\" % ('SVM sklearn', cv_results.mean(), cv_results.std())\n",
        "\n",
        "print(msg)"
      ],
      "execution_count": 0,
      "outputs": [
        {
          "output_type": "stream",
          "text": [
            "<class 'pandas.core.frame.DataFrame'>\n",
            "Cross Validation Accuracy SVM sklearn: Accuracy: 0.931818 SD: 0.022391\n"
          ],
          "name": "stdout"
        }
      ]
    },
    {
      "cell_type": "markdown",
      "metadata": {
        "id": "ud8XImFeJlGi",
        "colab_type": "text"
      },
      "source": [
        "$$\n",
        "\\min_{\\beta_0, \\, \\beta} \\sum_{i = 1}^n [1 - y_i (\\beta_0 + \\beta x_i)]_+ + \\frac{\\lambda}{2} \\| \\beta \\|_2\n",
        "$$\n",
        "\n",
        "$$\n",
        "\\min_{\\beta_0, \\, \\theta} L[y, \\, K \\theta] + \\frac{\\lambda}{2} \\theta^T K \\theta\n",
        "$$\n",
        "\n",
        "$K$ is $n \\times n$ matrix, $K(x, x') = \\exp(-\\gamma \\|x - x' \\|^2)$"
      ]
    },
    {
      "cell_type": "code",
      "metadata": {
        "id": "l231M0tTJlGj",
        "colab_type": "code",
        "outputId": "46dc8e97-4564-41bb-e203-b8c83f144572",
        "colab": {
          "base_uri": "https://localhost:8080/",
          "height": 221
        }
      },
      "source": [
        "pd.to_numeric(X_train[6])"
      ],
      "execution_count": 0,
      "outputs": [
        {
          "output_type": "execute_result",
          "data": {
            "text/plain": [
              "399    0.028530\n",
              "333    0.000974\n",
              "217    0.057740\n",
              "199    0.118000\n",
              "554    0.061950\n",
              "         ...   \n",
              "508    0.055260\n",
              "293    0.026880\n",
              "453    0.068950\n",
              "481    0.029950\n",
              "299    0.024950\n",
              "Name: 6, Length: 381, dtype: float64"
            ]
          },
          "metadata": {
            "tags": []
          },
          "execution_count": 141
        }
      ]
    },
    {
      "cell_type": "code",
      "metadata": {
        "id": "mcuLK2t0JlGn",
        "colab_type": "code",
        "colab": {}
      },
      "source": [
        "# Oracles\n",
        "\n",
        "# h(x) is strongly convex\n",
        "\n",
        "lam = 0.01\n",
        "gamma = 1e10\n",
        "\n",
        "n_sam = X_train.values.shape[0]\n",
        "X_arr = X_train.values\n",
        "y_arr = y_train.values.reshape(n_sam, 1)\n",
        "\n",
        "def K_func(xi, xj):\n",
        "    nor = np.linalg.norm(xi - xj, 2)\n",
        "    return np.exp(-gamma * nor * nor)\n",
        "\n",
        "K_matrix = np.zeros((n_sam, n_sam))\n",
        "E_matrix = np.identity(n_sam)\n",
        "for i in range(0, n_sam):\n",
        "    for j in range(0, n_sam):\n",
        "        K_matrix[i][j] = K_func(X_arr[i, :], X_arr[j, :])\n",
        "\n",
        "def h1(btheta):\n",
        "    theta = btheta[1:] \n",
        "    n_dim = theta.shape[0]\n",
        "    theta = theta.reshape(n_dim, 1)\n",
        "    #print('h1', lam / 2 * float(np.dot(theta.T, np.dot(K_matrix, theta))))\n",
        "    return lam / 2 * float(np.dot(theta.T, np.dot(K_matrix, theta)))\n",
        "\n",
        "def grad_h1(btheta):\n",
        "    theta = btheta[1:]\n",
        "    n_dim = theta.shape[0]\n",
        "    theta = theta.reshape(n_dim, 1)\n",
        "    gr = lam*np.dot(K_matrix, theta)\n",
        "    #print('gr', gr.shape)\n",
        "    gr0 = np.insert(gr, 0, 0)#, axis = 0)\n",
        "    #print('gr h1', gr0.shape, np.linalg.norm(gr), gr[3], theta[3])\n",
        "    return gr0 \n",
        "\n",
        "def g1(btheta):\n",
        "    \n",
        "    theta = btheta[1:]\n",
        "    n_dim = theta.shape[0]\n",
        "    beta0 = btheta[0]\n",
        "    s2 = 0\n",
        "    for i in range(0, n_dim):\n",
        "                      \n",
        "        ty = y_arr[i]*(beta0 + float(np.dot(theta.T, K_matrix[i, :].reshape(n_dim, 1))))\n",
        "        ty = float(ty)\n",
        "        \n",
        "        if ty <= 1 - mu_n:\n",
        "            pos = 1 - ty - mu_n / 2\n",
        "        elif ty <= 1:\n",
        "            pos = (1 - ty) * (1 - ty) / 2 / mu_n\n",
        "        else:\n",
        "            pos = 0\n",
        "        s2 = s2 + pos  \n",
        "        \n",
        "    return 1 / n_sam * float(s2)\n",
        "\n",
        "def grad_g1(btheta):\n",
        "    \n",
        "    theta = btheta[1:]\n",
        "    n_dim = theta.shape[0]\n",
        "    theta = theta.reshape(n_dim, 1)\n",
        "    beta0 = btheta[0]\n",
        "    \n",
        "    gr = np.zeros(btheta.shape)#.reshape(n_dim, 1)    \n",
        "    sum_for_beta0 = 0\n",
        "    sum_for_beta = 0\n",
        "    for i in range(0, n_dim):\n",
        "        #print(theta.T.shape, K_matrix[i, :].reshape(n_dim, 1).shape)\n",
        "        ty = y_arr[i]*(beta0 + float(np.dot(theta.T, K_matrix[i, :].reshape(n_dim, 1))))\n",
        "        ty = float(ty)\n",
        "        \n",
        "        if ty <= 1 - mu_n:\n",
        "            for_beta0 = float(-y_arr[i])\n",
        "            for_beta = for_beta0*K_matrix[i, :]\n",
        "            #print(ty, for_beta0.shape, for_beta.shape)\n",
        "        elif ty <= 1:\n",
        "            for_beta0 = 1 / mu_n * float((1 - ty) * (-y_arr[i]))\n",
        "            for_beta = for_beta0 * K_matrix[i, :]\n",
        "        else:\n",
        "            for_beta0 = 0\n",
        "            for_beta = np.zeros(theta.shape[0])\n",
        "        \n",
        "        sum_for_beta0 = sum_for_beta0 + for_beta0\n",
        "        sum_for_beta = sum_for_beta + for_beta\n",
        "        #print(i, ty, sum_for_beta0, sum_for_beta.shape, np.linalg.norm(sum_for_beta))\n",
        "    #print(sum_for_beta0, np.linalg.norm(sum_for_beta))    \n",
        "    gr[0] = sum_for_beta0\n",
        "    gr[1:] = sum_for_beta\n",
        "    \n",
        "    return 1 / n_sam * gr\n",
        "    \n",
        "def f1(x):\n",
        "    return h1(x) + g1(x)\n",
        "\n",
        "def grad_f1(x):\n",
        "    return grad_h1(x) + grad_g1(x)\n",
        "\n",
        "def stoch_grad(x, a):\n",
        "    \n",
        "    theta = x[1:]\n",
        "    n_dim = theta.shape[0]\n",
        "    theta = theta.reshape(n_dim, 1)\n",
        "    beta0 = x[0]\n",
        "    \n",
        "    gr = np.zeros(x.shape)#.reshape(n_dim, 1)    \n",
        "        \n",
        "    ty = y_arr[a]*(beta0 + float(np.dot(theta.T, K_matrix[a, :].reshape(n_dim, 1))))\n",
        "    ty = float(ty)\n",
        "        \n",
        "    if ty <= 1 - mu_n:\n",
        "            for_beta0 = float(-y_arr[a])\n",
        "            for_beta = for_beta0*K_matrix[a, :]\n",
        "            #print(ty, for_beta0.shape, for_beta.shape)\n",
        "    elif ty <= 1:\n",
        "            for_beta0 = 1 / mu_n * float((1 - ty) * (-y_arr[a]))\n",
        "            for_beta = for_beta0 * K_matrix[a, :]\n",
        "    else:\n",
        "            for_beta0 = 0\n",
        "            for_beta = np.zeros(theta.shape[0])\n",
        "        \n",
        "    gr[0] = for_beta0\n",
        "    gr[1:] = for_beta\n",
        "    \n",
        "    return 1 / n_sam * gr        "
      ],
      "execution_count": 0,
      "outputs": []
    },
    {
      "cell_type": "code",
      "metadata": {
        "id": "L1KWeqd7JlGq",
        "colab_type": "code",
        "outputId": "2c64bf18-c2dc-4012-eca5-04820747a0f5",
        "colab": {
          "base_uri": "https://localhost:8080/",
          "height": 34
        }
      },
      "source": [
        "eps = 1e-1\n",
        "mu_n = eps # Parameter for Nesterov's smoothing\n",
        "\n",
        "def check_L(p_orac):\n",
        "    L = 1e-20\n",
        "    step = 2\n",
        "    for i in range(int(1e4)):\n",
        "        rn1 = np.random.randint(0, 1e8)\n",
        "        \n",
        "        x = -rn1 * np.random.rand(n_sam + 1)\n",
        "        rn2 = np.random.randint(0, 1e2)\n",
        "        y = rn2 * np.random.rand(n_sam + 1)\n",
        "        #print(rn1, rn2, np.linalg.norm(x), np.linalg.norm(y))\n",
        "        d1 = np.linalg.norm(p_orac(x) - p_orac(y))\n",
        "        d2 = np.linalg.norm(x - y)\n",
        "        #print(d1, d2)\n",
        "        while d1 > L*d2:\n",
        "                L = step*L\n",
        "                #print(d1, d2, L)\n",
        "        break        \n",
        "    return L            \n",
        "Lh = check_L(grad_h1)\n",
        "Lg = check_L(grad_g1)\n",
        "\n",
        "print('Lh exp ', Lh, 'Lg exp', Lg)"
      ],
      "execution_count": 0,
      "outputs": [
        {
          "output_type": "stream",
          "text": [
            "Lh exp  0.011529215046068469 Lg exp 4.398046511104e-08\n"
          ],
          "name": "stdout"
        }
      ]
    },
    {
      "cell_type": "code",
      "metadata": {
        "id": "aMYC4xsbJlGu",
        "colab_type": "code",
        "outputId": "026a8ce5-e915-4649-bd22-fc5ab3320844",
        "colab": {
          "base_uri": "https://localhost:8080/",
          "height": 85
        }
      },
      "source": [
        "n = 10\n",
        "x0 = 10*np.random.rand(n_sam + 1)\n",
        "\n",
        "import scipy\n",
        "w, v = scipy.linalg.eig(K_matrix)\n",
        "Lh = lam * (int(np.max(w)) + 1)\n",
        "\n",
        "print(\"Lh = \", Lh)\n",
        "L = 1\n",
        "Lh = Lh\n",
        "\n",
        "norm_x0 = np.linalg.norm(x0, 2)\n",
        "s = sum([np.linalg.norm(X_arr[i], 2) for i in range(0, n_sam)])\n",
        "norm_opt = min([1 / n_sam / lam*s, math.sqrt(2/lam)])\n",
        "norm_x0\n",
        "\n",
        "#T = math.log((norm_x0*norm_x0 + norm_opt*norm_opt + 2*norm_x0*norm_opt) * mu / eps)\n",
        "#N0 = math.sqrt(8 * L / mu)\n",
        "#N0\n",
        "\n",
        "R2 = (norm_x0 - norm_opt)**2\n",
        "T = math.sqrt(L   / eps)\n",
        "print(\"T, R^2, L, Lh\", T, R2, L, Lh)"
      ],
      "execution_count": 0,
      "outputs": [
        {
          "output_type": "stream",
          "text": [
            "Lh =  0.02\n",
            "T, R^2, L, Lh 3.1622776601683795 9318.027911965852 1 0.02\n"
          ],
          "name": "stdout"
        },
        {
          "output_type": "stream",
          "text": [
            "/usr/local/lib/python3.6/dist-packages/ipykernel_launcher.py:6: ComplexWarning: Casting complex values to real discards the imaginary part\n",
            "  \n"
          ],
          "name": "stderr"
        }
      ]
    },
    {
      "cell_type": "code",
      "metadata": {
        "id": "fIzSRngeJlGy",
        "colab_type": "code",
        "colab": {}
      },
      "source": [
        "N_minn = math.log(1/eps)\n",
        "N_minn\n",
        "\n",
        "N = 100"
      ],
      "execution_count": 0,
      "outputs": []
    },
    {
      "cell_type": "code",
      "metadata": {
        "id": "cbkh78kaJlG1",
        "colab_type": "code",
        "outputId": "efca6f7f-2591-4e52-cf9d-b2ddaca148db",
        "colab": {
          "base_uri": "https://localhost:8080/",
          "height": 1000
        }
      },
      "source": [
        "N1 = N\n",
        "\n",
        "N1, y1, plt1, times_MS, calls = ms_acc_prox_method(L, Lh, x0, N1, grad_h1, g1, grad_g1, f1, 1, eps, stoch_grad, h1, verbose = 0, time_scale = True)\n",
        "\n",
        "print('Answer 1: ', N1, f1(y1))"
      ],
      "execution_count": 0,
      "outputs": [
        {
          "output_type": "stream",
          "text": [
            "Here\n",
            "Here\n",
            "Here\n",
            "Here\n",
            "Here\n",
            "Here\n",
            "Here\n",
            "Here\n",
            "Here\n",
            "Here\n",
            "Here\n",
            "Here\n",
            "Here\n",
            "Here\n",
            "Here\n",
            "Here\n",
            "Here\n",
            "Here\n",
            "Here\n",
            "Here\n",
            "Here\n",
            "Here\n",
            "Here\n",
            "Here\n",
            "Here\n",
            "Here\n",
            "Here\n",
            "Here\n",
            "Here\n",
            "Here\n",
            "Here\n",
            "Here\n",
            "Here\n",
            "Here\n",
            "Here\n",
            "Here\n",
            "Here\n",
            "Here\n",
            "Here\n",
            "Here\n",
            "Here\n",
            "Here\n",
            "Here\n",
            "Here\n",
            "Here\n",
            "Here\n",
            "Here\n",
            "Here\n",
            "Here\n",
            "Here\n",
            "Here\n",
            "Here\n",
            "Here\n",
            "Here\n",
            "Here\n",
            "Here\n",
            "Here\n",
            "Here\n",
            "Here\n",
            "Here\n",
            "Here\n",
            "Here\n",
            "Here\n",
            "Here\n",
            "Here\n",
            "Here\n",
            "Here\n",
            "Here\n",
            "Here\n",
            "Here\n",
            "Here\n",
            "Here\n",
            "Here\n",
            "Here\n",
            "Here\n",
            "Here\n",
            "Here\n",
            "Here\n",
            "Here\n",
            "Here\n",
            "Here\n",
            "Here\n",
            "Here\n",
            "Here\n",
            "Here\n",
            "Here\n",
            "Here\n",
            "Here\n",
            "Here\n",
            "Here\n",
            "Here\n",
            "Here\n",
            "Here\n",
            "Here\n",
            "Here\n",
            "Here\n",
            "Here\n",
            "Here\n",
            "Here\n",
            "Here\n",
            "Answer 1:  100 0.6502123077594961\n"
          ],
          "name": "stdout"
        }
      ]
    },
    {
      "cell_type": "code",
      "metadata": {
        "id": "2zujaAVnJlG7",
        "colab_type": "code",
        "colab": {}
      },
      "source": [
        "def FGM(p_func, p_grad_func, x0, N=10, L=1, restart=None, return_losses=True, time_scale=False, verbose = 0, coord = 0):\n",
        "    \n",
        "    n_dim = x0.shape[0]\n",
        "    n_sam = n_dim - 1\n",
        "    \n",
        "    x = x0.copy()\n",
        "    v = x0.copy()\n",
        "    \n",
        "    A = 0\n",
        "    S = L / 2\n",
        "    \n",
        "    losses = []\n",
        "    times = []\n",
        "    calls = []\n",
        "    \n",
        "    if coord == 1:\n",
        "        time_start = time.time()\n",
        "        \n",
        "        for k in range(N):\n",
        "            a = np.roots([S, -1, -A]).max()\n",
        "            A = A + a\n",
        "            alpha = a / A\n",
        "        \n",
        "            ir = np.random.randint(0, n_sam) \n",
        "        \n",
        "            y = (1 - alpha) * x + alpha * v\n",
        "        \n",
        "            x[ir] = y[ir] - (1 / L) * p_grad_func(y)[ir]\n",
        "            v[ir] = v[ir] - a * p_grad_func(x)[ir]\n",
        "        \n",
        "            time_end = time.time() - time_start\n",
        "            if time_scale:\n",
        "                times.append(time_end)\n",
        "        \n",
        "            fx = p_func(x)\n",
        "            losses.append(fx)\n",
        "        \n",
        "            if verbose == 1:\n",
        "                print(fx)\n",
        "            \n",
        "            calls.append(2)\n",
        "                \n",
        "    else:\n",
        "        \n",
        "        time_start = time.time()\n",
        "    \n",
        "        for k in range(N):\n",
        "            a = np.roots([S, -1, -A]).max()\n",
        "            A = A + a\n",
        "            alpha = a / A\n",
        "        \n",
        "            y = (1 - alpha) * x + alpha * v\n",
        "        \n",
        "            x = y - (1 / L) * p_grad_func(y)\n",
        "            v = v - a * p_grad_func(x)\n",
        "        \n",
        "            time_end = time.time() - time_start\n",
        "            if time_scale:\n",
        "                times.append(time_end)\n",
        "        \n",
        "            fx = p_func(x)\n",
        "            losses.append(fx)\n",
        "        \n",
        "            if verbose == 1:\n",
        "                print(fx)\n",
        "            \n",
        "            calls.append(n_sam*2)\n",
        "        \n",
        "    if return_losses and time_scale:\n",
        "        return x, np.array(losses), np.array(times), calls\n",
        "    elif return_losses:\n",
        "        return x, np.array(losses)\n",
        "    else:\n",
        "        return x"
      ],
      "execution_count": 0,
      "outputs": []
    },
    {
      "cell_type": "code",
      "metadata": {
        "id": "BziuTMHXJlG_",
        "colab_type": "code",
        "colab": {}
      },
      "source": [
        "Lf = max([L, Lh])\n",
        "N2 = N\n",
        "x, losses, times_FG, calls_FG = FGM(f1, grad_f1, x0, N=N2, L= Lf, restart=None, return_losses=True, time_scale = True, verbose = 0)"
      ],
      "execution_count": 0,
      "outputs": []
    },
    {
      "cell_type": "code",
      "metadata": {
        "id": "uLCSbVklJlHC",
        "colab_type": "code",
        "colab": {}
      },
      "source": [
        "N3 = N\n",
        "x, losses_c, times_FG_c, calls_FG_c = FGM(f1, grad_f1, x0, N=N3, L= L, restart=None, return_losses=True, time_scale = True, verbose = 0, coord = 1)"
      ],
      "execution_count": 0,
      "outputs": []
    },
    {
      "cell_type": "code",
      "metadata": {
        "id": "1dEVJqYTJlHF",
        "colab_type": "code",
        "colab": {}
      },
      "source": [
        "#losses, plt1"
      ],
      "execution_count": 0,
      "outputs": []
    },
    {
      "cell_type": "code",
      "metadata": {
        "id": "uYMiwFo4JlHI",
        "colab_type": "code",
        "outputId": "b087d6f9-82f4-412c-e8d1-6ecd5fd2aa1a",
        "colab": {
          "base_uri": "https://localhost:8080/",
          "height": 284
        }
      },
      "source": [
        "%matplotlib inline\n",
        "import matplotlib.pyplot as plt\n",
        "plt.grid(True)\n",
        "plt.plot(range(1, N1 + 1), plt1, label = 'MS', ls = '-')\n",
        "plt.plot(range(1, N2 + 1), losses, label = 'FGM', ls = '--')\n",
        "#plt.plot(range(1, N3 + 1), losses_c, label = 'FGM coord', ls = '-.')\n",
        "plt.yscale('log')\n",
        "plt.xlabel(r\"Number of iterations, $N$\", fontsize=12)\n",
        "plt.ylabel(r\"Loss function (log scale)\", fontsize=12)\n",
        "plt.legend()\n",
        "plt.show()"
      ],
      "execution_count": 0,
      "outputs": [
        {
          "output_type": "display_data",
          "data": {
            "image/png": "[encoded data removed]",
            "text/plain": [
              "<Figure size 432x288 with 1 Axes>"
            ]
          },
          "metadata": {
            "tags": [],
            "needs_background": "light"
          }
        }
      ]
    },
    {
      "cell_type": "code",
      "metadata": {
        "id": "ig7x0OxjJlHL",
        "colab_type": "code",
        "outputId": "49a3272d-5e7c-498c-8c0a-b88fc48fdf94",
        "colab": {
          "base_uri": "https://localhost:8080/",
          "height": 34
        }
      },
      "source": [
        "#print(times_FG)\n",
        "#print(times_MS)\n",
        "print(plt1[-1], losses[-1])"
      ],
      "execution_count": 0,
      "outputs": [
        {
          "output_type": "stream",
          "text": [
            "0.6502123077594961 0.6820378533839099\n"
          ],
          "name": "stdout"
        }
      ]
    },
    {
      "cell_type": "code",
      "metadata": {
        "id": "gxmI1mK1JlHP",
        "colab_type": "code",
        "outputId": "8e840736-e27f-4422-f3bc-a9cfd9c10d58",
        "colab": {
          "base_uri": "https://localhost:8080/",
          "height": 34
        }
      },
      "source": [
        "time_max = min(\n",
        "    times_MS[-1] - times_MS[0],\n",
        "    times_FG[-1] - times_FG[0]\n",
        ")\n",
        "ms_times_max_idx = np.searchsorted(np.array(times_MS) - times_MS[0], time_max, side=\"right\")\n",
        "fg_times_max_idx = np.searchsorted(np.array(times_FG) - times_FG[0], time_max, side=\"right\")\n",
        "print(time_max, ms_times_max_idx, fg_times_max_idx)"
      ],
      "execution_count": 0,
      "outputs": [
        {
          "output_type": "stream",
          "text": [
            "1.623701572418213 92 100\n"
          ],
          "name": "stdout"
        }
      ]
    },
    {
      "cell_type": "code",
      "metadata": {
        "id": "o9BpQ-OTJlHS",
        "colab_type": "code",
        "outputId": "bce75258-71ec-4eca-9951-ac70d57c9705",
        "colab": {
          "base_uri": "https://localhost:8080/",
          "height": 284
        }
      },
      "source": [
        "  %matplotlib inline\n",
        "plt.semilogy((np.array(times_MS) - times_MS[0])[:ms_times_max_idx], (plt1)[:ms_times_max_idx], label=\"MS\")\n",
        "plt.semilogy(times_FG[:fg_times_max_idx], (losses)[:fg_times_max_idx], label=\"FGM\")\n",
        "\n",
        "plt.grid(linewidth=0.5)\n",
        "\n",
        "plt.xlabel(r\"Time, $T$ (s)\", fontsize=12)\n",
        "plt.ylabel(r\"Loss function (log scale)\", fontsize=12)\n",
        "plt.legend()\n",
        "plt.show()\n"
      ],
      "execution_count": 0,
      "outputs": [
        {
          "output_type": "display_data",
          "data": {
            "image/png": "[encoded data removed]",
            "text/plain": [
              "<Figure size 432x288 with 1 Axes>"
            ]
          },
          "metadata": {
            "tags": [],
            "needs_background": "light"
          }
        }
      ]
    },
    {
      "cell_type": "code",
      "metadata": {
        "id": "56qDVRvFJlHX",
        "colab_type": "code",
        "outputId": "01235340-4f37-42c2-ddb7-f4747b0e4420",
        "colab": {
          "base_uri": "https://localhost:8080/",
          "height": 306
        }
      },
      "source": [
        "#print(calls, calls_FG)\n",
        "n_calls = np.cumsum(calls)\n",
        "n_calls_FG = np.cumsum(calls_FG)\n",
        "print(n_calls, n_calls_FG)"
      ],
      "execution_count": 0,
      "outputs": [
        {
          "output_type": "stream",
          "text": [
            "[  383   766  1149  1532  1915  2298  2681  3064  3447  3830  4213  4596\n",
            "  4979  5362  5745  6128  6511  6894  7277  7660  8043  8426  8809  9192\n",
            "  9575  9958 10341 10724 11107 11490 11873 12256 12639 13022 13405 13788\n",
            " 14171 14554 14937 15320 15703 16086 16469 16852 17235 17618 18001 18384\n",
            " 18767 19150 19533 19916 20299 20682 21065 21448 21831 22214 22597 22980\n",
            " 23363 23746 24129 24512 24895 25278 25661 26044 26427 26810 27193 27576\n",
            " 27959 28342 28725 29108 29491 29874 30257 30640 31023 31406 31789 32172\n",
            " 32555 32938 33321 33704 34087 34470 34853 35236 35619 36002 36385 36768\n",
            " 37151 37534 37917 38300] [  762  1524  2286  3048  3810  4572  5334  6096  6858  7620  8382  9144\n",
            "  9906 10668 11430 12192 12954 13716 14478 15240 16002 16764 17526 18288\n",
            " 19050 19812 20574 21336 22098 22860 23622 24384 25146 25908 26670 27432\n",
            " 28194 28956 29718 30480 31242 32004 32766 33528 34290 35052 35814 36576\n",
            " 37338 38100 38862 39624 40386 41148 41910 42672 43434 44196 44958 45720\n",
            " 46482 47244 48006 48768 49530 50292 51054 51816 52578 53340 54102 54864\n",
            " 55626 56388 57150 57912 58674 59436 60198 60960 61722 62484 63246 64008\n",
            " 64770 65532 66294 67056 67818 68580 69342 70104 70866 71628 72390 73152\n",
            " 73914 74676 75438 76200]\n"
          ],
          "name": "stdout"
        }
      ]
    },
    {
      "cell_type": "code",
      "metadata": {
        "id": "hO4-L0flJlHa",
        "colab_type": "code",
        "outputId": "f808e21d-833a-4722-a2f3-81d8db85e62e",
        "colab": {
          "base_uri": "https://localhost:8080/",
          "height": 34
        }
      },
      "source": [
        "o_max = min(\n",
        "    n_calls[-1],\n",
        "    n_calls_FG[-1]\n",
        ")\n",
        "ms_idx = np.searchsorted(np.array(n_calls), o_max, side=\"right\")\n",
        "fg_idx = np.searchsorted(np.array(n_calls_FG), o_max, side=\"right\")\n",
        "print(o_max, ms_idx, fg_idx)"
      ],
      "execution_count": 0,
      "outputs": [
        {
          "output_type": "stream",
          "text": [
            "38300 100 50\n"
          ],
          "name": "stdout"
        }
      ]
    },
    {
      "cell_type": "code",
      "metadata": {
        "id": "m6Q6MalOJlHf",
        "colab_type": "code",
        "outputId": "48036e96-1bb8-4779-81b9-2327e77d26c3",
        "colab": {
          "base_uri": "https://localhost:8080/",
          "height": 282
        }
      },
      "source": [
        "%matplotlib inline\n",
        "plt.semilogy((np.array(n_calls))[:ms_idx], (plt1)[:ms_idx], label=\"MS\", ls='-')\n",
        "plt.semilogy(n_calls_FG[:fg_idx], (losses)[:fg_idx], label=\"FGM\", ls = '--')\n",
        "\n",
        "plt.grid(linewidth=0.5)\n",
        "\n",
        "plt.xlabel(r\"Oracle calls\", fontsize=12)\n",
        "plt.ylabel(r\"Loss function (log scale)\", fontsize=12)\n",
        "plt.legend()\n",
        "plt.show()\n"
      ],
      "execution_count": 0,
      "outputs": [
        {
          "output_type": "display_data",
          "data": {
            "image/png": "[encoded data removed]",
            "text/plain": [
              "<Figure size 432x288 with 1 Axes>"
            ]
          },
          "metadata": {
            "tags": [],
            "needs_background": "light"
          }
        }
      ]
    },
    {
      "cell_type": "code",
      "metadata": {
        "id": "AqLmlvSiNokG",
        "colab_type": "code",
        "colab": {}
      },
      "source": [
        ""
      ],
      "execution_count": 0,
      "outputs": []
    }
  ]
}